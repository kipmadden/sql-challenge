{
 "cells": [
  {
   "cell_type": "markdown",
   "metadata": {},
   "source": [
    "# SQL Homework - Employee Database: A Mystery in Two Parts\n",
    "\n",
    "![sql.png](sql.png)\n",
    "\n",
    "## Background\n",
    "\n",
    "It is a beautiful spring day, and it is two weeks since you have been hired as a new data engineer at Pewlett Hackard. Your first major task is a research project on employees of the corporation from the 1980s and 1990s. All that remain of the database of employees from that period are six CSV files.\n",
    "\n",
    "In this assignment, you will design the tables to hold data in the CSVs, import the CSVs into a SQL database, and answer questions about the data. In other words, you will perform:\n",
    "\n",
    "1. Data Modeling\n",
    "\n",
    "2. Data Engineering\n",
    "\n",
    "3. Data Analysis\n",
    "\n",
    "### Before You Begin\n",
    "\n",
    "1. Create a new repository for this project called `sql-challenge`. **Do not add this homework to an existing repository**.\n",
    "\n",
    "2. Clone the new repository to your computer.\n",
    "\n",
    "3. Inside your local git repository, create a directory for the SQL challenge. Use a folder name to correspond to the challenge: **EmployeeSQL**.\n",
    "\n",
    "4. Add your files to this folder.\n",
    "\n",
    "5. Push the above changes to GitHub.\n",
    "\n",
    "## Instructions\n",
    "\n",
    "#### Data Modeling\n",
    "\n",
    "Inspect the CSVs and sketch out an ERD of the tables. Feel free to use a tool like [http://www.quickdatabasediagrams.com](http://www.quickdatabasediagrams.com).\n",
    "\n",
    "#### Data Engineering\n",
    "\n",
    "* Use the information you have to create a table schema for each of the six CSV files. Remember to specify data types, primary keys, foreign keys, and other constraints.\n",
    "\n",
    "* Import each CSV file into the corresponding SQL table.\n",
    "\n",
    "#### Data Analysis\n",
    "\n",
    "Once you have a complete database, do the following:\n",
    "\n",
    "1. List the following details of each employee: employee number, last name, first name, gender, and salary.\n",
    "\n",
    "2. List employees who were hired in 1986.\n",
    "\n",
    "3. List the manager of each department with the following information: department number, department name, the manager's employee number, last name, first name, and start and end employment dates.\n",
    "\n",
    "4. List the department of each employee with the following information: employee number, last name, first name, and department name.\n",
    "\n",
    "5. List all employees whose first name is \"Hercules\" and last names begin with \"B.\"\n",
    "\n",
    "6. List all employees in the Sales department, including their employee number, last name, first name, and department name.\n",
    "\n",
    "7. List all employees in the Sales and Development departments, including their employee number, last name, first name, and department name.\n",
    "\n",
    "8. In descending order, list the frequency count of employee last names, i.e., how many employees share each last name.\n",
    "\n",
    "## Bonus (Optional)\n",
    "\n",
    "As you examine the data, you are overcome with a creeping suspicion that the dataset is fake. You surmise that your boss handed you spurious data in order to test the data engineering skills of a new employee. To confirm your hunch, you decide to take the following steps to generate a visualization of the data, with which you will confront your boss:\n",
    "\n",
    "1. Import the SQL database into Pandas. (Yes, you could read the CSVs directly in Pandas, but you are, after all, trying to prove your technical mettle.) This step may require some research. Feel free to use the code below to get started. Be sure to make any necessary modifications for your username, password, host, port, and database name:\n",
    "\n",
    "   ```sql\n",
    "   from sqlalchemy import create_engine\n",
    "   engine = create_engine('postgresql://localhost:5432/<your_db_name>')\n",
    "   connection = engine.connect()\n",
    "   ```\n",
    "\n",
    "* Consult [SQLAlchemy documentation](https://docs.sqlalchemy.org/en/latest/core/engines.html#postgresql) for more information.\n",
    "\n",
    "* If using a password, do not upload your password to your GitHub repository. See [https://www.youtube.com/watch?v=2uaTPmNvH0I](https://www.youtube.com/watch?v=2uaTPmNvH0I) and [https://martin-thoma.com/configuration-files-in-python/](https://martin-thoma.com/configuration-files-in-python/) for more information.\n",
    "\n",
    "2. Create a histogram to visualize the most common salary ranges for employees.\n",
    "\n",
    "3. Create a bar chart of average salary by title.\n",
    "\n",
    "## Epilogue\n",
    "\n",
    "Evidence in hand, you march into your boss's office and present the visualization. With a sly grin, your boss thanks you for your work. On your way out of the office, you hear the words, \"Search your ID number.\" You look down at your badge to see that your employee ID number is 499942.\n",
    "\n",
    "## Submission\n",
    "\n",
    "* Create an image file of your ERD.\n",
    "\n",
    "* Create a `.sql` file of your table schemata.\n",
    "\n",
    "* Create a `.sql` file of your queries.\n",
    "\n",
    "* (Optional) Create a Jupyter Notebook of the bonus analysis.\n",
    "\n",
    "* Create and upload a repository with the above files to GitHub and post a link on BootCamp Spot.\n",
    "\n",
    "### Copyright\n",
    "\n",
    "Trilogy Education Services © 2019. All Rights Reserved."
   ]
  },
  {
   "cell_type": "code",
   "execution_count": 11,
   "metadata": {},
   "outputs": [],
   "source": [
    "# Import Dependencies\n",
    "import pandas as pd\n",
    "import matplotlib.pyplot as plt\n",
    "import seaborn as sns\n",
    "\n",
    "# SQL Alchemy\n",
    "from sqlalchemy import create_engine\n",
    "\n",
    "# Import database connection string containing username, password and hostname\n",
    "# from a file that is ignored by Git (.gitignore file) so the sensitive information isn't exposed to the public\n",
    "from config import dbconnection"
   ]
  },
  {
   "cell_type": "code",
   "execution_count": 2,
   "metadata": {},
   "outputs": [],
   "source": [
    "# Create Engine and a connection to the Postgresql database\n",
    "engine = create_engine(dbconnection)\n",
    "conn = engine.connect()"
   ]
  },
  {
   "cell_type": "code",
   "execution_count": 3,
   "metadata": {},
   "outputs": [],
   "source": [
    "# Query the salaries from the salaries table into a Pandas dataframe named 'data'\n",
    "data = pd.read_sql(\"SELECT * FROM salaries\", conn)"
   ]
  },
  {
   "cell_type": "code",
   "execution_count": 17,
   "metadata": {},
   "outputs": [
    {
     "data": {
      "text/html": [
       "<div>\n",
       "<style scoped>\n",
       "    .dataframe tbody tr th:only-of-type {\n",
       "        vertical-align: middle;\n",
       "    }\n",
       "\n",
       "    .dataframe tbody tr th {\n",
       "        vertical-align: top;\n",
       "    }\n",
       "\n",
       "    .dataframe thead th {\n",
       "        text-align: right;\n",
       "    }\n",
       "</style>\n",
       "<table border=\"1\" class=\"dataframe\">\n",
       "  <thead>\n",
       "    <tr style=\"text-align: right;\">\n",
       "      <th></th>\n",
       "      <th>emp_no</th>\n",
       "      <th>salary</th>\n",
       "      <th>from_date</th>\n",
       "      <th>to_date</th>\n",
       "    </tr>\n",
       "  </thead>\n",
       "  <tbody>\n",
       "    <tr>\n",
       "      <th>0</th>\n",
       "      <td>10001</td>\n",
       "      <td>60117</td>\n",
       "      <td>1986-06-26</td>\n",
       "      <td>1987-06-26</td>\n",
       "    </tr>\n",
       "    <tr>\n",
       "      <th>1</th>\n",
       "      <td>10002</td>\n",
       "      <td>65828</td>\n",
       "      <td>1996-08-03</td>\n",
       "      <td>1997-08-03</td>\n",
       "    </tr>\n",
       "    <tr>\n",
       "      <th>2</th>\n",
       "      <td>10003</td>\n",
       "      <td>40006</td>\n",
       "      <td>1995-12-03</td>\n",
       "      <td>1996-12-02</td>\n",
       "    </tr>\n",
       "    <tr>\n",
       "      <th>3</th>\n",
       "      <td>10004</td>\n",
       "      <td>40054</td>\n",
       "      <td>1986-12-01</td>\n",
       "      <td>1987-12-01</td>\n",
       "    </tr>\n",
       "    <tr>\n",
       "      <th>4</th>\n",
       "      <td>10005</td>\n",
       "      <td>78228</td>\n",
       "      <td>1989-09-12</td>\n",
       "      <td>1990-09-12</td>\n",
       "    </tr>\n",
       "  </tbody>\n",
       "</table>\n",
       "</div>"
      ],
      "text/plain": [
       "   emp_no  salary   from_date     to_date\n",
       "0   10001   60117  1986-06-26  1987-06-26\n",
       "1   10002   65828  1996-08-03  1997-08-03\n",
       "2   10003   40006  1995-12-03  1996-12-02\n",
       "3   10004   40054  1986-12-01  1987-12-01\n",
       "4   10005   78228  1989-09-12  1990-09-12"
      ]
     },
     "execution_count": 17,
     "metadata": {},
     "output_type": "execute_result"
    }
   ],
   "source": [
    "# Review the dataframe to ensure it makes sense\n",
    "data.head()"
   ]
  },
  {
   "cell_type": "code",
   "execution_count": 5,
   "metadata": {},
   "outputs": [],
   "source": [
    "# Create a series and assign it to 'sal' by isolating the 'salary' column\n",
    "sal = data['salary']"
   ]
  },
  {
   "cell_type": "code",
   "execution_count": 12,
   "metadata": {},
   "outputs": [
    {
     "data": {
      "text/plain": [
       "Text(0.5, 0, 'Salary in $')"
      ]
     },
     "execution_count": 12,
     "metadata": {},
     "output_type": "execute_result"
    },
    {
     "data": {
      "image/png": "[encoded data removed]",
      "text/plain": [
       "<Figure size 432x288 with 1 Axes>"
      ]
     },
     "metadata": {
      "needs_background": "light"
     },
     "output_type": "display_data"
    }
   ],
   "source": [
    "# Plot a histogram of the salaries to see the distribution using 10 bins\n",
    "sns.distplot(sal,bins=15);\n",
    "plt.title('Histogram of Salaries')\n",
    "plt.ylabel('Frequency')\n",
    "plt.xlabel('Salary in $')"
   ]
  },
  {
   "cell_type": "markdown",
   "metadata": {},
   "source": [
    "Most of the salaries appear to be in the $40k-$50k bin - an indicator that the data might not be 'natural' and it was created."
   ]
  },
  {
   "cell_type": "code",
   "execution_count": 13,
   "metadata": {},
   "outputs": [],
   "source": [
    "# Query the average salary by title and assign to the 'sdata' variable\n",
    "sdata = pd.read_sql('SELECT ROUND(AVG(s.salary),0) \"Avg Salary\", t.title \"Title\" FROM salaries s JOIN titles t ON (s.emp_no = t.emp_no) GROUP BY t.title', conn)"
   ]
  },
  {
   "cell_type": "code",
   "execution_count": 15,
   "metadata": {},
   "outputs": [
    {
     "data": {
      "text/html": [
       "<div>\n",
       "<style scoped>\n",
       "    .dataframe tbody tr th:only-of-type {\n",
       "        vertical-align: middle;\n",
       "    }\n",
       "\n",
       "    .dataframe tbody tr th {\n",
       "        vertical-align: top;\n",
       "    }\n",
       "\n",
       "    .dataframe thead th {\n",
       "        text-align: right;\n",
       "    }\n",
       "</style>\n",
       "<table border=\"1\" class=\"dataframe\">\n",
       "  <thead>\n",
       "    <tr style=\"text-align: right;\">\n",
       "      <th></th>\n",
       "      <th>Avg Salary</th>\n",
       "      <th>Title</th>\n",
       "    </tr>\n",
       "  </thead>\n",
       "  <tbody>\n",
       "    <tr>\n",
       "      <th>0</th>\n",
       "      <td>48493.0</td>\n",
       "      <td>Assistant Engineer</td>\n",
       "    </tr>\n",
       "    <tr>\n",
       "      <th>1</th>\n",
       "      <td>48540.0</td>\n",
       "      <td>Engineer</td>\n",
       "    </tr>\n",
       "    <tr>\n",
       "      <th>2</th>\n",
       "      <td>51531.0</td>\n",
       "      <td>Manager</td>\n",
       "    </tr>\n",
       "    <tr>\n",
       "      <th>3</th>\n",
       "      <td>48507.0</td>\n",
       "      <td>Senior Engineer</td>\n",
       "    </tr>\n",
       "    <tr>\n",
       "      <th>4</th>\n",
       "      <td>58503.0</td>\n",
       "      <td>Senior Staff</td>\n",
       "    </tr>\n",
       "  </tbody>\n",
       "</table>\n",
       "</div>"
      ],
      "text/plain": [
       "   Avg Salary               Title\n",
       "0     48493.0  Assistant Engineer\n",
       "1     48540.0            Engineer\n",
       "2     51531.0             Manager\n",
       "3     48507.0     Senior Engineer\n",
       "4     58503.0        Senior Staff"
      ]
     },
     "execution_count": 15,
     "metadata": {},
     "output_type": "execute_result"
    }
   ],
   "source": [
    "# View the dataframe created to see if it makes sense\n",
    "sdata.head()"
   ]
  },
  {
   "cell_type": "code",
   "execution_count": 16,
   "metadata": {},
   "outputs": [
    {
     "data": {
      "image/png": "[encoded data removed]",
      "text/plain": [
       "<Figure size 720x360 with 1 Axes>"
      ]
     },
     "metadata": {
      "needs_background": "light"
     },
     "output_type": "display_data"
    }
   ],
   "source": [
    "# Plot the dataframe in a bar chart to visualize the information\n",
    "plt.figure(figsize=(10,5))\n",
    "\n",
    "ax = sns.barplot(x=\"Title\",y=\"Avg Salary\",data=sdata)\n",
    "\n",
    "ax.set_xticklabels(\n",
    "    ax.get_xticklabels(),\n",
    "    rotation=45,\n",
    "    horizontalalignment='right',\n",
    "    fontweight='light',\n",
    "    fontsize='large')\n",
    "ax.set_title(\"Average Salary by Title in $\",fontsize='x-large')\n",
    "plt.ylabel('Average Salary in $',fontsize='large')\n",
    "plt.xlabel('Job Title',fontsize='large')\n",
    "plt.show()"
   ]
  },
  {
   "cell_type": "markdown",
   "metadata": {},
   "source": [
    "It seems very likely this data was fabricated - there should be a larger difference in average salaries between the different job titles."
   ]
  },
  {
   "cell_type": "code",
   "execution_count": null,
   "metadata": {},
   "outputs": [],
   "source": []
  }
 ],
 "metadata": {
  "kernelspec": {
   "display_name": "Python 3",
   "language": "python",
   "name": "python3"
  },
  "language_info": {
   "codemirror_mode": {
    "name": "ipython",
    "version": 3
   },
   "file_extension": ".py",
   "mimetype": "text/x-python",
   "name": "python",
   "nbconvert_exporter": "python",
   "pygments_lexer": "ipython3",
   "version": "3.6.10"
  }
 },
 "nbformat": 4,
 "nbformat_minor": 2
}
